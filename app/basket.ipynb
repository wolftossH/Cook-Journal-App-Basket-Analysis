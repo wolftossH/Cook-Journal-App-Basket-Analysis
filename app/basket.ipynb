{
 "cells": [
  {
   "cell_type": "code",
   "execution_count": 9,
   "id": "68e1cae9",
   "metadata": {},
   "outputs": [],
   "source": [
    "from apyori import apriori\n",
    "import sqlite3\n",
    "from collections import defaultdict"
   ]
  },
  {
   "cell_type": "code",
   "execution_count": 8,
   "id": "c9cf7124",
   "metadata": {},
   "outputs": [],
   "source": [
    "import numpy as np # linear algebra\n",
    "import pandas as pd # data processing, CSV file I/O (e.g. pd.read_csv)\n",
    "\n",
    "import json\n",
    "import ast\n",
    "\n",
    "df = pd.read_csv(\"RAW_recipes.csv.zip\")"
   ]
  },
  {
   "cell_type": "code",
   "execution_count": null,
   "id": "3eb3dda5",
   "metadata": {},
   "outputs": [],
   "source": [
    "df.head(2)"
   ]
  },
  {
   "cell_type": "code",
   "execution_count": 12,
   "id": "28f87ac2",
   "metadata": {},
   "outputs": [
    {
     "data": {
      "text/html": [
       "<div>\n",
       "<style scoped>\n",
       "    .dataframe tbody tr th:only-of-type {\n",
       "        vertical-align: middle;\n",
       "    }\n",
       "\n",
       "    .dataframe tbody tr th {\n",
       "        vertical-align: top;\n",
       "    }\n",
       "\n",
       "    .dataframe thead th {\n",
       "        text-align: right;\n",
       "    }\n",
       "</style>\n",
       "<table border=\"1\" class=\"dataframe\">\n",
       "  <thead>\n",
       "    <tr style=\"text-align: right;\">\n",
       "      <th></th>\n",
       "      <th>name</th>\n",
       "      <th>ingredients</th>\n",
       "    </tr>\n",
       "  </thead>\n",
       "  <tbody>\n",
       "    <tr>\n",
       "      <th>0</th>\n",
       "      <td>arriba   baked winter squash mexican style</td>\n",
       "      <td>{olive oil, mixed spice, butter, salt, winter ...</td>\n",
       "    </tr>\n",
       "    <tr>\n",
       "      <th>1</th>\n",
       "      <td>a bit different  breakfast pizza</td>\n",
       "      <td>{salt and pepper, milk, prepared pizza crust, ...</td>\n",
       "    </tr>\n",
       "    <tr>\n",
       "      <th>2</th>\n",
       "      <td>all in the kitchen  chili</td>\n",
       "      <td>{yellow onions, tomato soup, salt, lettuce, ch...</td>\n",
       "    </tr>\n",
       "    <tr>\n",
       "      <th>3</th>\n",
       "      <td>alouette  potatoes</td>\n",
       "      <td>{olive oil, red bell pepper, salt, tarragon, p...</td>\n",
       "    </tr>\n",
       "    <tr>\n",
       "      <th>4</th>\n",
       "      <td>amish  tomato ketchup  for canning</td>\n",
       "      <td>{sugar, salt, dry mustard, clove oil, cinnamon...</td>\n",
       "    </tr>\n",
       "  </tbody>\n",
       "</table>\n",
       "</div>"
      ],
      "text/plain": [
       "                                         name  \\\n",
       "0  arriba   baked winter squash mexican style   \n",
       "1            a bit different  breakfast pizza   \n",
       "2                   all in the kitchen  chili   \n",
       "3                          alouette  potatoes   \n",
       "4          amish  tomato ketchup  for canning   \n",
       "\n",
       "                                         ingredients  \n",
       "0  {olive oil, mixed spice, butter, salt, winter ...  \n",
       "1  {salt and pepper, milk, prepared pizza crust, ...  \n",
       "2  {yellow onions, tomato soup, salt, lettuce, ch...  \n",
       "3  {olive oil, red bell pepper, salt, tarragon, p...  \n",
       "4  {sugar, salt, dry mustard, clove oil, cinnamon...  "
      ]
     },
     "execution_count": 12,
     "metadata": {},
     "output_type": "execute_result"
    }
   ],
   "source": [
    "dish_ing = df[['name','ingredients']].copy()\n",
    "dish_ing.loc[:,'ingredients'] = dish_ing['ingredients'].apply(lambda lst: set(ast.literal_eval(lst)))\n",
    "dish_ing.head()"
   ]
  },
  {
   "cell_type": "markdown",
   "id": "a524edd0",
   "metadata": {},
   "source": [
    "## Fetch dataset from user input & add to list"
   ]
  },
  {
   "cell_type": "code",
   "execution_count": 14,
   "id": "1a83af72",
   "metadata": {},
   "outputs": [
    {
     "name": "stdout",
     "output_type": "stream",
     "text": [
      "[('pizza', 'tomato, garlic, basil, flour, cheese, olive oil'), ('muffin', 'egg, blueberry, butter, flour, cheese, milk, vanilla, sugar')]\n"
     ]
    }
   ],
   "source": [
    "conn = sqlite3.connect('dishes.db')\n",
    "# Create a cursor\n",
    "c = conn.cursor()\n",
    "\n",
    "c.execute(\"SELECT DISTINCT * FROM dishes_list\")\n",
    "user_records = c.fetchall()\n",
    "\n",
    "# Commit the changes & close connection\n",
    "conn.commit()\n",
    "conn.close()"
   ]
  },
  {
   "cell_type": "code",
   "execution_count": 26,
   "id": "03051fe8",
   "metadata": {},
   "outputs": [
    {
     "name": "stdout",
     "output_type": "stream",
     "text": [
      "[{'name': 'pizza', 'ingredients': {'olive oil', 'garlic', 'cheese', 'basil', 'flour', 'tomato'}}, {'name': 'muffin', 'ingredients': {'butter', 'sugar', 'milk', 'cheese', 'flour', 'egg', 'blueberry', 'vanilla'}}]\n"
     ]
    },
    {
     "data": {
      "text/html": [
       "<div>\n",
       "<style scoped>\n",
       "    .dataframe tbody tr th:only-of-type {\n",
       "        vertical-align: middle;\n",
       "    }\n",
       "\n",
       "    .dataframe tbody tr th {\n",
       "        vertical-align: top;\n",
       "    }\n",
       "\n",
       "    .dataframe thead th {\n",
       "        text-align: right;\n",
       "    }\n",
       "</style>\n",
       "<table border=\"1\" class=\"dataframe\">\n",
       "  <thead>\n",
       "    <tr style=\"text-align: right;\">\n",
       "      <th></th>\n",
       "      <th>name</th>\n",
       "      <th>ingredients</th>\n",
       "    </tr>\n",
       "  </thead>\n",
       "  <tbody>\n",
       "    <tr>\n",
       "      <th>0</th>\n",
       "      <td>pizza</td>\n",
       "      <td>{olive oil, garlic, cheese, basil, flour, tomato}</td>\n",
       "    </tr>\n",
       "    <tr>\n",
       "      <th>1</th>\n",
       "      <td>muffin</td>\n",
       "      <td>{butter, sugar, milk, cheese, flour, egg, blue...</td>\n",
       "    </tr>\n",
       "  </tbody>\n",
       "</table>\n",
       "</div>"
      ],
      "text/plain": [
       "     name                                        ingredients\n",
       "0   pizza  {olive oil, garlic, cheese, basil, flour, tomato}\n",
       "1  muffin  {butter, sugar, milk, cheese, flour, egg, blue..."
      ]
     },
     "execution_count": 26,
     "metadata": {},
     "output_type": "execute_result"
    }
   ],
   "source": [
    "# Create df for user inputs\n",
    "user_records_dct = []\n",
    "for dish, items in user_records:\n",
    "    items_set = set([i.lstrip().rstrip() for i in items.split(',')])\n",
    "    dictionary_data = {'name': dish, 'ingredients':items_set}\n",
    "    user_records_dct.append(dictionary_data)\n",
    "user_df= pd.DataFrame.from_dict(user_records_dct)\n",
    "user_df.head()"
   ]
  },
  {
   "cell_type": "code",
   "execution_count": 28,
   "id": "9fc03e3c",
   "metadata": {},
   "outputs": [],
   "source": [
    "# concat with Kaggle dataset\n",
    "dish_ing = pd.concat([dish_ing, user_df], ignore_index=True)"
   ]
  },
  {
   "cell_type": "code",
   "execution_count": 31,
   "id": "e20ce63b",
   "metadata": {},
   "outputs": [],
   "source": [
    "# Create a list of sets of ingredients for searching & the apyori library\n",
    "ing_series = dish_ing['ingredients']\n",
    "ingredients_lsts = ing_series.to_list()"
   ]
  },
  {
   "cell_type": "code",
   "execution_count": 33,
   "id": "1a5811b1",
   "metadata": {},
   "outputs": [
    {
     "data": {
      "text/plain": [
       "[{'butter',\n",
       "  'honey',\n",
       "  'mexican seasoning',\n",
       "  'mixed spice',\n",
       "  'olive oil',\n",
       "  'salt',\n",
       "  'winter squash'},\n",
       " {'cheese',\n",
       "  'eggs',\n",
       "  'milk',\n",
       "  'prepared pizza crust',\n",
       "  'salt and pepper',\n",
       "  'sausage patty'}]"
      ]
     },
     "execution_count": 33,
     "metadata": {},
     "output_type": "execute_result"
    }
   ],
   "source": [
    "ingredients_lsts[:2]"
   ]
  },
  {
   "cell_type": "code",
   "execution_count": 34,
   "id": "80af679e",
   "metadata": {},
   "outputs": [],
   "source": [
    "# Create dict for searching\n",
    "ing_dct = defaultdict(set)\n",
    "for n, ings in zip(dish_ing['name'],dish_ing['ingredients']):\n",
    "    for item in ings:\n",
    "        ing_dct[item].add(n)    "
   ]
  },
  {
   "cell_type": "code",
   "execution_count": 35,
   "id": "4b907c4c",
   "metadata": {},
   "outputs": [],
   "source": [
    "def searching_dish(search_ings):\n",
    "    '''\n",
    "    Give out dish name by searching for ingredients\n",
    "    '''\n",
    "    wanted_dishes = set()\n",
    "    for s_ing in search_ings:\n",
    "        if s_ing in ing_dct and wanted_dishes:\n",
    "            wanted_dishes = wanted_dishes.intersection(ing_dct[s_ing])\n",
    "        else:\n",
    "            wanted_dishes = wanted_dishes.union(ing_dct[s_ing])\n",
    "            \n",
    "    return wanted_dishes"
   ]
  },
  {
   "cell_type": "code",
   "execution_count": 40,
   "id": "b8a84846",
   "metadata": {},
   "outputs": [
    {
     "data": {
      "text/plain": [
       "{'arriba   baked winter squash mexican style',\n",
       " 'd do s savory beef shank soup',\n",
       " 'roasted vegetables with chicken sausage'}"
      ]
     },
     "execution_count": 40,
     "metadata": {},
     "output_type": "execute_result"
    }
   ],
   "source": [
    "# testing finding dishes\n",
    "search_ings = ['honey', 'winter squash']\n",
    "searching_dish(search_ings)"
   ]
  },
  {
   "cell_type": "markdown",
   "id": "f2688a74",
   "metadata": {},
   "source": [
    "### Use Apriori algo\n",
    "\n",
    "**Link**: https://towardsdatascience.com/the-apriori-algorithm-5da3db9aea95\n",
    "\n",
    "### Definitions\n",
    "\n",
    "Association Rules written in a format: Ingredient A => Ingredient B. This implies that you obtain a rule that tells you that if you use ingredient A, you are also likely to use ingredient B.\n",
    "\n",
    "__support__: A measure of how often or how frequently the products co-occur\n",
    "![support](img/support.jpeg)\n",
    "\n",
    "__confidence__: It tells us how often the items A and B occur together, given the number times A occurs.\n",
    "![confidence](img/confidence.jpeg)\n",
    "\n",
    "__lift__: the strength of association\n",
    "![lift](img/lift.jpeg)"
   ]
  },
  {
   "cell_type": "code",
   "execution_count": 41,
   "id": "54f08e7d",
   "metadata": {},
   "outputs": [],
   "source": [
    "association_rules = apriori(ingredients_lsts, min_support=0.0045, min_confidence=0.2, min_lift=3, min_length=2)\n",
    "association_results = list(association_rules)"
   ]
  },
  {
   "cell_type": "code",
   "execution_count": 42,
   "id": "d217e79d",
   "metadata": {},
   "outputs": [
    {
     "name": "stdout",
     "output_type": "stream",
     "text": [
      "665\n"
     ]
    }
   ],
   "source": [
    "print(len(association_results))"
   ]
  },
  {
   "cell_type": "code",
   "execution_count": 43,
   "id": "a77f0039",
   "metadata": {},
   "outputs": [
    {
     "name": "stdout",
     "output_type": "stream",
     "text": [
      "RelationRecord(items=frozenset({'baking soda', 'butter', 'flour', 'salt'}), support=0.009743609668492784, ordered_statistics=[OrderedStatistic(items_base=frozenset({'baking soda', 'butter'}), items_add=frozenset({'flour', 'salt'}), confidence=0.3634460547504026, lift=5.126554663033035), OrderedStatistic(items_base=frozenset({'baking soda', 'flour'}), items_add=frozenset({'butter', 'salt'}), confidence=0.3785007546536978, lift=3.426297874368983), OrderedStatistic(items_base=frozenset({'baking soda', 'salt'}), items_add=frozenset({'butter', 'flour'}), confidence=0.20950524459296388, lift=3.5024238851233807), OrderedStatistic(items_base=frozenset({'baking soda', 'butter', 'salt'}), items_add=frozenset({'flour'}), confidence=0.4744586924532268, lift=4.1839172019633395), OrderedStatistic(items_base=frozenset({'butter', 'flour', 'salt'}), items_add=frozenset({'baking soda'}), confidence=0.26678486997635936, lift=4.3831321722429895)])\n"
     ]
    }
   ],
   "source": [
    "print(association_results[500])"
   ]
  },
  {
   "cell_type": "code",
   "execution_count": 44,
   "id": "bb9ff8ac",
   "metadata": {},
   "outputs": [
    {
     "data": {
      "text/plain": [
       "frozenset({'baking soda', 'butter', 'flour', 'salt'})"
      ]
     },
     "execution_count": 44,
     "metadata": {},
     "output_type": "execute_result"
    }
   ],
   "source": [
    "association_results[500].items"
   ]
  },
  {
   "cell_type": "code",
   "execution_count": 45,
   "id": "a92ba5cb",
   "metadata": {},
   "outputs": [
    {
     "data": {
      "text/plain": [
       "[OrderedStatistic(items_base=frozenset({'baking soda', 'butter'}), items_add=frozenset({'flour', 'salt'}), confidence=0.3634460547504026, lift=5.126554663033035),\n",
       " OrderedStatistic(items_base=frozenset({'baking soda', 'flour'}), items_add=frozenset({'butter', 'salt'}), confidence=0.3785007546536978, lift=3.426297874368983),\n",
       " OrderedStatistic(items_base=frozenset({'baking soda', 'salt'}), items_add=frozenset({'butter', 'flour'}), confidence=0.20950524459296388, lift=3.5024238851233807),\n",
       " OrderedStatistic(items_base=frozenset({'baking soda', 'butter', 'salt'}), items_add=frozenset({'flour'}), confidence=0.4744586924532268, lift=4.1839172019633395),\n",
       " OrderedStatistic(items_base=frozenset({'butter', 'flour', 'salt'}), items_add=frozenset({'baking soda'}), confidence=0.26678486997635936, lift=4.3831321722429895)]"
      ]
     },
     "execution_count": 45,
     "metadata": {},
     "output_type": "execute_result"
    }
   ],
   "source": [
    "association_results[500].ordered_statistics"
   ]
  },
  {
   "cell_type": "markdown",
   "id": "04352d7a",
   "metadata": {},
   "source": [
    "### Create a dataframe with Support, Confidence & Lift scores for each items set"
   ]
  },
  {
   "cell_type": "code",
   "execution_count": 11,
   "id": "9bd5d38c",
   "metadata": {},
   "outputs": [],
   "source": [
    "scores_df = pd.DataFrame(columns = ['Ingredients','Items_Base', 'Items_Added', 'Support', 'Confidence','Lift'])"
   ]
  },
  {
   "cell_type": "code",
   "execution_count": 12,
   "id": "9c425447",
   "metadata": {},
   "outputs": [],
   "source": [
    "for relation in association_results:\n",
    "    ing = set(relation.items)\n",
    "    support = relation.support\n",
    "    for ord_stat in relation.ordered_statistics:\n",
    "        scores_df = scores_df.append(\n",
    "            {'Ingredients' : ing, 'Items_Base' : set(ord_stat.items_base), 'Items_Added' : set(ord_stat.items_add),\n",
    "             'Support' : support, 'Confidence' : ord_stat.confidence, 'Lift' : ord_stat.lift},\n",
    "            ignore_index = True\n",
    "        )"
   ]
  },
  {
   "cell_type": "markdown",
   "id": "79c1b5c5",
   "metadata": {},
   "source": [
    "Sort by all highest scores to achieve better food item"
   ]
  },
  {
   "cell_type": "code",
   "execution_count": 13,
   "id": "5dc71fe8",
   "metadata": {},
   "outputs": [
    {
     "data": {
      "text/html": [
       "<div>\n",
       "<style scoped>\n",
       "    .dataframe tbody tr th:only-of-type {\n",
       "        vertical-align: middle;\n",
       "    }\n",
       "\n",
       "    .dataframe tbody tr th {\n",
       "        vertical-align: top;\n",
       "    }\n",
       "\n",
       "    .dataframe thead th {\n",
       "        text-align: right;\n",
       "    }\n",
       "</style>\n",
       "<table border=\"1\" class=\"dataframe\">\n",
       "  <thead>\n",
       "    <tr style=\"text-align: right;\">\n",
       "      <th></th>\n",
       "      <th>Ingredients</th>\n",
       "      <th>Items_Base</th>\n",
       "      <th>Items_Added</th>\n",
       "      <th>Support</th>\n",
       "      <th>Confidence</th>\n",
       "      <th>Lift</th>\n",
       "    </tr>\n",
       "  </thead>\n",
       "  <tbody>\n",
       "    <tr>\n",
       "      <th>16</th>\n",
       "      <td>{eggs, baking powder}</td>\n",
       "      <td>{baking powder}</td>\n",
       "      <td>{eggs}</td>\n",
       "      <td>0.037153</td>\n",
       "      <td>0.491659</td>\n",
       "      <td>3.373313</td>\n",
       "    </tr>\n",
       "    <tr>\n",
       "      <th>17</th>\n",
       "      <td>{eggs, baking powder}</td>\n",
       "      <td>{eggs}</td>\n",
       "      <td>{baking powder}</td>\n",
       "      <td>0.037153</td>\n",
       "      <td>0.254910</td>\n",
       "      <td>3.373313</td>\n",
       "    </tr>\n",
       "    <tr>\n",
       "      <th>670</th>\n",
       "      <td>{salt, sugar, flour}</td>\n",
       "      <td>{sugar, salt}</td>\n",
       "      <td>{flour}</td>\n",
       "      <td>0.033967</td>\n",
       "      <td>0.346486</td>\n",
       "      <td>3.055621</td>\n",
       "    </tr>\n",
       "    <tr>\n",
       "      <th>669</th>\n",
       "      <td>{salt, sugar, flour}</td>\n",
       "      <td>{flour}</td>\n",
       "      <td>{sugar, salt}</td>\n",
       "      <td>0.033967</td>\n",
       "      <td>0.299551</td>\n",
       "      <td>3.055621</td>\n",
       "    </tr>\n",
       "    <tr>\n",
       "      <th>18</th>\n",
       "      <td>{flour, baking powder}</td>\n",
       "      <td>{baking powder}</td>\n",
       "      <td>{flour}</td>\n",
       "      <td>0.032020</td>\n",
       "      <td>0.423732</td>\n",
       "      <td>3.736844</td>\n",
       "    </tr>\n",
       "  </tbody>\n",
       "</table>\n",
       "</div>"
      ],
      "text/plain": [
       "                Ingredients       Items_Base      Items_Added   Support  \\\n",
       "16    {eggs, baking powder}  {baking powder}           {eggs}  0.037153   \n",
       "17    {eggs, baking powder}           {eggs}  {baking powder}  0.037153   \n",
       "670    {salt, sugar, flour}    {sugar, salt}          {flour}  0.033967   \n",
       "669    {salt, sugar, flour}          {flour}    {sugar, salt}  0.033967   \n",
       "18   {flour, baking powder}  {baking powder}          {flour}  0.032020   \n",
       "\n",
       "     Confidence      Lift  \n",
       "16     0.491659  3.373313  \n",
       "17     0.254910  3.373313  \n",
       "670    0.346486  3.055621  \n",
       "669    0.299551  3.055621  \n",
       "18     0.423732  3.736844  "
      ]
     },
     "execution_count": 13,
     "metadata": {},
     "output_type": "execute_result"
    }
   ],
   "source": [
    "score_sorted_df = scores_df.sort_values(by=['Support', 'Confidence','Lift'], ascending=False)\n",
    "score_sorted_df.head()"
   ]
  },
  {
   "cell_type": "code",
   "execution_count": 14,
   "id": "c709deb4",
   "metadata": {},
   "outputs": [],
   "source": [
    "# Create recommended dishes based on items base\n",
    "score_sorted_df['recommend_dishes'] = score_sorted_df['Ingredients'].apply(lambda lst: searching_dish(lst))"
   ]
  },
  {
   "cell_type": "code",
   "execution_count": 15,
   "id": "3c949171",
   "metadata": {},
   "outputs": [
    {
     "data": {
      "text/html": [
       "<div>\n",
       "<style scoped>\n",
       "    .dataframe tbody tr th:only-of-type {\n",
       "        vertical-align: middle;\n",
       "    }\n",
       "\n",
       "    .dataframe tbody tr th {\n",
       "        vertical-align: top;\n",
       "    }\n",
       "\n",
       "    .dataframe thead th {\n",
       "        text-align: right;\n",
       "    }\n",
       "</style>\n",
       "<table border=\"1\" class=\"dataframe\">\n",
       "  <thead>\n",
       "    <tr style=\"text-align: right;\">\n",
       "      <th></th>\n",
       "      <th>Ingredients</th>\n",
       "      <th>Items_Base</th>\n",
       "      <th>Items_Added</th>\n",
       "      <th>Support</th>\n",
       "      <th>Confidence</th>\n",
       "      <th>Lift</th>\n",
       "      <th>recommend_dishes</th>\n",
       "    </tr>\n",
       "  </thead>\n",
       "  <tbody>\n",
       "    <tr>\n",
       "      <th>16</th>\n",
       "      <td>{eggs, baking powder}</td>\n",
       "      <td>{baking powder}</td>\n",
       "      <td>{eggs}</td>\n",
       "      <td>0.037153</td>\n",
       "      <td>0.491659</td>\n",
       "      <td>3.373313</td>\n",
       "      <td>{cathy s toffee blondies for c a c h e, brenda...</td>\n",
       "    </tr>\n",
       "    <tr>\n",
       "      <th>17</th>\n",
       "      <td>{eggs, baking powder}</td>\n",
       "      <td>{eggs}</td>\n",
       "      <td>{baking powder}</td>\n",
       "      <td>0.037153</td>\n",
       "      <td>0.254910</td>\n",
       "      <td>3.373313</td>\n",
       "      <td>{cathy s toffee blondies for c a c h e, brenda...</td>\n",
       "    </tr>\n",
       "    <tr>\n",
       "      <th>670</th>\n",
       "      <td>{salt, sugar, flour}</td>\n",
       "      <td>{sugar, salt}</td>\n",
       "      <td>{flour}</td>\n",
       "      <td>0.033967</td>\n",
       "      <td>0.346486</td>\n",
       "      <td>3.055621</td>\n",
       "      <td>{delicious homemade donuts, picnic cake  with ...</td>\n",
       "    </tr>\n",
       "    <tr>\n",
       "      <th>669</th>\n",
       "      <td>{salt, sugar, flour}</td>\n",
       "      <td>{flour}</td>\n",
       "      <td>{sugar, salt}</td>\n",
       "      <td>0.033967</td>\n",
       "      <td>0.299551</td>\n",
       "      <td>3.055621</td>\n",
       "      <td>{delicious homemade donuts, picnic cake  with ...</td>\n",
       "    </tr>\n",
       "    <tr>\n",
       "      <th>18</th>\n",
       "      <td>{flour, baking powder}</td>\n",
       "      <td>{baking powder}</td>\n",
       "      <td>{flour}</td>\n",
       "      <td>0.032020</td>\n",
       "      <td>0.423732</td>\n",
       "      <td>3.736844</td>\n",
       "      <td>{cathy s toffee blondies for c a c h e, brenda...</td>\n",
       "    </tr>\n",
       "  </tbody>\n",
       "</table>\n",
       "</div>"
      ],
      "text/plain": [
       "                Ingredients       Items_Base      Items_Added   Support  \\\n",
       "16    {eggs, baking powder}  {baking powder}           {eggs}  0.037153   \n",
       "17    {eggs, baking powder}           {eggs}  {baking powder}  0.037153   \n",
       "670    {salt, sugar, flour}    {sugar, salt}          {flour}  0.033967   \n",
       "669    {salt, sugar, flour}          {flour}    {sugar, salt}  0.033967   \n",
       "18   {flour, baking powder}  {baking powder}          {flour}  0.032020   \n",
       "\n",
       "     Confidence      Lift                                   recommend_dishes  \n",
       "16     0.491659  3.373313  {cathy s toffee blondies for c a c h e, brenda...  \n",
       "17     0.254910  3.373313  {cathy s toffee blondies for c a c h e, brenda...  \n",
       "670    0.346486  3.055621  {delicious homemade donuts, picnic cake  with ...  \n",
       "669    0.299551  3.055621  {delicious homemade donuts, picnic cake  with ...  \n",
       "18     0.423732  3.736844  {cathy s toffee blondies for c a c h e, brenda...  "
      ]
     },
     "execution_count": 15,
     "metadata": {},
     "output_type": "execute_result"
    }
   ],
   "source": [
    "score_sorted_df.head()"
   ]
  },
  {
   "cell_type": "markdown",
   "id": "fa874c2d",
   "metadata": {},
   "source": [
    "Testing a set of ingredients to see dishes"
   ]
  },
  {
   "cell_type": "code",
   "execution_count": 16,
   "id": "b69f49fa",
   "metadata": {},
   "outputs": [],
   "source": [
    "lookup = {'flour','salt', 'sugar','eggs','baking powder'}"
   ]
  },
  {
   "cell_type": "code",
   "execution_count": 17,
   "id": "c95de518",
   "metadata": {},
   "outputs": [
    {
     "data": {
      "text/html": [
       "<div>\n",
       "<style scoped>\n",
       "    .dataframe tbody tr th:only-of-type {\n",
       "        vertical-align: middle;\n",
       "    }\n",
       "\n",
       "    .dataframe tbody tr th {\n",
       "        vertical-align: top;\n",
       "    }\n",
       "\n",
       "    .dataframe thead th {\n",
       "        text-align: right;\n",
       "    }\n",
       "</style>\n",
       "<table border=\"1\" class=\"dataframe\">\n",
       "  <thead>\n",
       "    <tr style=\"text-align: right;\">\n",
       "      <th></th>\n",
       "      <th>Ingredients</th>\n",
       "      <th>Items_Base</th>\n",
       "      <th>Items_Added</th>\n",
       "      <th>Support</th>\n",
       "      <th>Confidence</th>\n",
       "      <th>Lift</th>\n",
       "      <th>recommend_dishes</th>\n",
       "    </tr>\n",
       "  </thead>\n",
       "  <tbody>\n",
       "    <tr>\n",
       "      <th>2289</th>\n",
       "      <td>{sugar, flour, salt, eggs, baking powder}</td>\n",
       "      <td>{salt, eggs, flour, baking powder}</td>\n",
       "      <td>{sugar}</td>\n",
       "      <td>0.008729</td>\n",
       "      <td>0.703794</td>\n",
       "      <td>3.660598</td>\n",
       "      <td>{chocolate brownies with hot fudge sauce, hot ...</td>\n",
       "    </tr>\n",
       "    <tr>\n",
       "      <th>2291</th>\n",
       "      <td>{sugar, flour, salt, eggs, baking powder}</td>\n",
       "      <td>{sugar, salt, flour, baking powder}</td>\n",
       "      <td>{eggs}</td>\n",
       "      <td>0.008729</td>\n",
       "      <td>0.541801</td>\n",
       "      <td>3.717339</td>\n",
       "      <td>{chocolate brownies with hot fudge sauce, hot ...</td>\n",
       "    </tr>\n",
       "    <tr>\n",
       "      <th>2279</th>\n",
       "      <td>{sugar, flour, salt, eggs, baking powder}</td>\n",
       "      <td>{eggs, flour, baking powder}</td>\n",
       "      <td>{sugar, salt}</td>\n",
       "      <td>0.008729</td>\n",
       "      <td>0.534073</td>\n",
       "      <td>5.447906</td>\n",
       "      <td>{chocolate brownies with hot fudge sauce, hot ...</td>\n",
       "    </tr>\n",
       "    <tr>\n",
       "      <th>2290</th>\n",
       "      <td>{sugar, flour, salt, eggs, baking powder}</td>\n",
       "      <td>{salt, eggs, sugar, baking powder}</td>\n",
       "      <td>{flour}</td>\n",
       "      <td>0.008729</td>\n",
       "      <td>0.519127</td>\n",
       "      <td>4.578125</td>\n",
       "      <td>{chocolate brownies with hot fudge sauce, hot ...</td>\n",
       "    </tr>\n",
       "    <tr>\n",
       "      <th>2292</th>\n",
       "      <td>{sugar, flour, salt, eggs, baking powder}</td>\n",
       "      <td>{salt, eggs, sugar, flour}</td>\n",
       "      <td>{baking powder}</td>\n",
       "      <td>0.008729</td>\n",
       "      <td>0.518462</td>\n",
       "      <td>6.860996</td>\n",
       "      <td>{chocolate brownies with hot fudge sauce, hot ...</td>\n",
       "    </tr>\n",
       "  </tbody>\n",
       "</table>\n",
       "</div>"
      ],
      "text/plain": [
       "                                    Ingredients  \\\n",
       "2289  {sugar, flour, salt, eggs, baking powder}   \n",
       "2291  {sugar, flour, salt, eggs, baking powder}   \n",
       "2279  {sugar, flour, salt, eggs, baking powder}   \n",
       "2290  {sugar, flour, salt, eggs, baking powder}   \n",
       "2292  {sugar, flour, salt, eggs, baking powder}   \n",
       "\n",
       "                               Items_Base      Items_Added   Support  \\\n",
       "2289   {salt, eggs, flour, baking powder}          {sugar}  0.008729   \n",
       "2291  {sugar, salt, flour, baking powder}           {eggs}  0.008729   \n",
       "2279         {eggs, flour, baking powder}    {sugar, salt}  0.008729   \n",
       "2290   {salt, eggs, sugar, baking powder}          {flour}  0.008729   \n",
       "2292           {salt, eggs, sugar, flour}  {baking powder}  0.008729   \n",
       "\n",
       "      Confidence      Lift                                   recommend_dishes  \n",
       "2289    0.703794  3.660598  {chocolate brownies with hot fudge sauce, hot ...  \n",
       "2291    0.541801  3.717339  {chocolate brownies with hot fudge sauce, hot ...  \n",
       "2279    0.534073  5.447906  {chocolate brownies with hot fudge sauce, hot ...  \n",
       "2290    0.519127  4.578125  {chocolate brownies with hot fudge sauce, hot ...  \n",
       "2292    0.518462  6.860996  {chocolate brownies with hot fudge sauce, hot ...  "
      ]
     },
     "execution_count": 17,
     "metadata": {},
     "output_type": "execute_result"
    }
   ],
   "source": [
    "score_sorted_df[score_sorted_df['Ingredients']==lookup].head()"
   ]
  },
  {
   "cell_type": "code",
   "execution_count": 31,
   "id": "0dc5ca70",
   "metadata": {},
   "outputs": [],
   "source": [
    "def recommend(ings_set, top_k = 5):\n",
    "    '''\n",
    "    Recommend Dishes & Ingredient based on Support, Confidence & Lift scores\n",
    "    '''\n",
    "    ings_set = set(ings_set)\n",
    "    \n",
    "    found_records = (\n",
    "        score_sorted_df[score_sorted_df['Items_Base']==ings_set]\n",
    "        .sort_values(by=['Support', 'Confidence','Lift'], ascending=False,ignore_index=True)\n",
    "    )\n",
    "    wanted_dishes = set()\n",
    "    # if there exit something in base then slowly start to pull out recommended dishes\n",
    "    if found_records['Items_Base']:        \n",
    "        # top k dishes using series indexing so no need to change top_k\n",
    "        for dishes_set in found_records['recommend_dishes'][:top_k]:         \n",
    "            if wanted_dishes:\n",
    "                wanted_dishes = wanted_dishes.intersection(dishes_set)\n",
    "            else:\n",
    "                wanted_dishes = wanted_dishes.union(dishes_set)\n",
    "    # start to search in Ingredients to see if there exists any sets\n",
    "    # get top k recommended food\n",
    "    else:\n",
    "        new_found_ing = (\n",
    "        score_sorted_df[score_sorted_df['Ingredients']==ings_set]\n",
    "        .sort_values(by=['Support', 'Confidence','Lift'], ascending=False,ignore_index=True)\n",
    "        ).loc[:top_k,:]\n",
    "        for dishes_set in new_found_ing['recommend_dishes']:         \n",
    "            if wanted_dishes:\n",
    "                wanted_dishes = wanted_dishes.intersection(dishes_set)\n",
    "            else:\n",
    "                wanted_dishes = wanted_dishes.union(dishes_set)\n",
    "        \n",
    "    return wanted_dishes\n",
    "    "
   ]
  },
  {
   "cell_type": "code",
   "execution_count": 26,
   "id": "59b4c864",
   "metadata": {},
   "outputs": [
    {
     "data": {
      "text/html": [
       "<div>\n",
       "<style scoped>\n",
       "    .dataframe tbody tr th:only-of-type {\n",
       "        vertical-align: middle;\n",
       "    }\n",
       "\n",
       "    .dataframe tbody tr th {\n",
       "        vertical-align: top;\n",
       "    }\n",
       "\n",
       "    .dataframe thead th {\n",
       "        text-align: right;\n",
       "    }\n",
       "</style>\n",
       "<table border=\"1\" class=\"dataframe\">\n",
       "  <thead>\n",
       "    <tr style=\"text-align: right;\">\n",
       "      <th></th>\n",
       "      <th>Ingredients</th>\n",
       "      <th>Items_Base</th>\n",
       "      <th>Items_Added</th>\n",
       "      <th>Support</th>\n",
       "      <th>Confidence</th>\n",
       "      <th>Lift</th>\n",
       "      <th>recommend_dishes</th>\n",
       "    </tr>\n",
       "  </thead>\n",
       "  <tbody>\n",
       "    <tr>\n",
       "      <th>0</th>\n",
       "      <td>{sugar, flour, salt, eggs, baking powder}</td>\n",
       "      <td>{salt, eggs, flour, baking powder}</td>\n",
       "      <td>{sugar}</td>\n",
       "      <td>0.008729</td>\n",
       "      <td>0.703794</td>\n",
       "      <td>3.660598</td>\n",
       "      <td>{chocolate brownies with hot fudge sauce, hot ...</td>\n",
       "    </tr>\n",
       "    <tr>\n",
       "      <th>1</th>\n",
       "      <td>{sugar, flour, salt, eggs, baking powder}</td>\n",
       "      <td>{sugar, salt, flour, baking powder}</td>\n",
       "      <td>{eggs}</td>\n",
       "      <td>0.008729</td>\n",
       "      <td>0.541801</td>\n",
       "      <td>3.717339</td>\n",
       "      <td>{chocolate brownies with hot fudge sauce, hot ...</td>\n",
       "    </tr>\n",
       "    <tr>\n",
       "      <th>2</th>\n",
       "      <td>{sugar, flour, salt, eggs, baking powder}</td>\n",
       "      <td>{eggs, flour, baking powder}</td>\n",
       "      <td>{sugar, salt}</td>\n",
       "      <td>0.008729</td>\n",
       "      <td>0.534073</td>\n",
       "      <td>5.447906</td>\n",
       "      <td>{chocolate brownies with hot fudge sauce, hot ...</td>\n",
       "    </tr>\n",
       "    <tr>\n",
       "      <th>3</th>\n",
       "      <td>{sugar, flour, salt, eggs, baking powder}</td>\n",
       "      <td>{salt, eggs, sugar, baking powder}</td>\n",
       "      <td>{flour}</td>\n",
       "      <td>0.008729</td>\n",
       "      <td>0.519127</td>\n",
       "      <td>4.578125</td>\n",
       "      <td>{chocolate brownies with hot fudge sauce, hot ...</td>\n",
       "    </tr>\n",
       "    <tr>\n",
       "      <th>4</th>\n",
       "      <td>{sugar, flour, salt, eggs, baking powder}</td>\n",
       "      <td>{salt, eggs, sugar, flour}</td>\n",
       "      <td>{baking powder}</td>\n",
       "      <td>0.008729</td>\n",
       "      <td>0.518462</td>\n",
       "      <td>6.860996</td>\n",
       "      <td>{chocolate brownies with hot fudge sauce, hot ...</td>\n",
       "    </tr>\n",
       "    <tr>\n",
       "      <th>5</th>\n",
       "      <td>{sugar, flour, salt, eggs, baking powder}</td>\n",
       "      <td>{sugar, flour, baking powder}</td>\n",
       "      <td>{eggs, salt}</td>\n",
       "      <td>0.008729</td>\n",
       "      <td>0.417251</td>\n",
       "      <td>5.332755</td>\n",
       "      <td>{chocolate brownies with hot fudge sauce, hot ...</td>\n",
       "    </tr>\n",
       "  </tbody>\n",
       "</table>\n",
       "</div>"
      ],
      "text/plain": [
       "                                 Ingredients  \\\n",
       "0  {sugar, flour, salt, eggs, baking powder}   \n",
       "1  {sugar, flour, salt, eggs, baking powder}   \n",
       "2  {sugar, flour, salt, eggs, baking powder}   \n",
       "3  {sugar, flour, salt, eggs, baking powder}   \n",
       "4  {sugar, flour, salt, eggs, baking powder}   \n",
       "5  {sugar, flour, salt, eggs, baking powder}   \n",
       "\n",
       "                            Items_Base      Items_Added   Support  Confidence  \\\n",
       "0   {salt, eggs, flour, baking powder}          {sugar}  0.008729    0.703794   \n",
       "1  {sugar, salt, flour, baking powder}           {eggs}  0.008729    0.541801   \n",
       "2         {eggs, flour, baking powder}    {sugar, salt}  0.008729    0.534073   \n",
       "3   {salt, eggs, sugar, baking powder}          {flour}  0.008729    0.519127   \n",
       "4           {salt, eggs, sugar, flour}  {baking powder}  0.008729    0.518462   \n",
       "5        {sugar, flour, baking powder}     {eggs, salt}  0.008729    0.417251   \n",
       "\n",
       "       Lift                                   recommend_dishes  \n",
       "0  3.660598  {chocolate brownies with hot fudge sauce, hot ...  \n",
       "1  3.717339  {chocolate brownies with hot fudge sauce, hot ...  \n",
       "2  5.447906  {chocolate brownies with hot fudge sauce, hot ...  \n",
       "3  4.578125  {chocolate brownies with hot fudge sauce, hot ...  \n",
       "4  6.860996  {chocolate brownies with hot fudge sauce, hot ...  \n",
       "5  5.332755  {chocolate brownies with hot fudge sauce, hot ...  "
      ]
     },
     "execution_count": 26,
     "metadata": {},
     "output_type": "execute_result"
    }
   ],
   "source": [
    "top_k = 5\n",
    "(\n",
    "    score_sorted_df[score_sorted_df['Ingredients']=={'flour','salt', 'sugar','eggs','baking powder'}]\n",
    ".sort_values(by=['Support', 'Confidence','Lift'], ascending=False,ignore_index=True)\n",
    ").loc[:top_k,:]"
   ]
  },
  {
   "cell_type": "markdown",
   "id": "23b68878",
   "metadata": {},
   "source": [
    "Display all dishes in favor of search ingredients"
   ]
  },
  {
   "cell_type": "code",
   "execution_count": 59,
   "id": "14e7e96b",
   "metadata": {},
   "outputs": [
    {
     "data": {
      "text/plain": [
       "0    {josie s pineapple zucchini bread, pollard s p...\n",
       "1    {low fat chocolate zucchini cake, grilled peac...\n",
       "2    {hungarian cheese filled coffee cake, low fat ...\n",
       "3    {honey cake with honey nut topping, chocolate ...\n",
       "4    {low fat chocolate zucchini cake, josie s pine...\n",
       "Name: recommend_dishes, dtype: object"
      ]
     },
     "execution_count": 59,
     "metadata": {},
     "output_type": "execute_result"
    }
   ],
   "source": [
    "(\n",
    "    score_sorted_df[score_sorted_df['Items_Base']=={'flour','salt', 'sugar','eggs'}]\n",
    ".sort_values(by=['Support', 'Confidence','Lift'], ascending=False,ignore_index=True)['recommend_dishes'][:]\n",
    ")"
   ]
  },
  {
   "cell_type": "markdown",
   "id": "d6c06fe3",
   "metadata": {},
   "source": [
    "# Different Apriori Library"
   ]
  },
  {
   "cell_type": "code",
   "execution_count": null,
   "id": "7adec21a",
   "metadata": {},
   "outputs": [],
   "source": [
    "from mlxtend.frequent_patterns import apriori\n",
    "from mlxtend.frequent_patterns import association_rules"
   ]
  },
  {
   "cell_type": "code",
   "execution_count": null,
   "id": "5395ec52",
   "metadata": {},
   "outputs": [],
   "source": [
    "frequent_itemsets = apriori(basket_sets, min_support=0.07, use_colnames=True)\n",
    "rules = association_rules(frequent_itemsets, metric=\"lift\", min_threshold=1)\n",
    "rules.head()"
   ]
  }
 ],
 "metadata": {
  "kernelspec": {
   "display_name": "Python 3 (clean)",
   "language": "python",
   "name": "python3_clean"
  },
  "language_info": {
   "codemirror_mode": {
    "name": "ipython",
    "version": 3
   },
   "file_extension": ".py",
   "mimetype": "text/x-python",
   "name": "python",
   "nbconvert_exporter": "python",
   "pygments_lexer": "ipython3",
   "version": "3.9.5"
  }
 },
 "nbformat": 4,
 "nbformat_minor": 5
}
